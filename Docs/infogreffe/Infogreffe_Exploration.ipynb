{
 "cells": [
  {
   "cell_type": "markdown",
   "metadata": {},
   "source": [
    "# Exploring Infogreffe (Financial Statements) Data"
   ]
  },
  {
   "cell_type": "code",
   "execution_count": 1,
   "metadata": {},
   "outputs": [],
   "source": [
    "import pandas as pd\n",
    "import psycopg2\n",
    "import numpy as np\n",
    "import configparser\n",
    "import matplotlib.pyplot as plt\n",
    "plt.style.use('fivethirtyeight')"
   ]
  },
  {
   "cell_type": "markdown",
   "metadata": {},
   "source": [
    "### Initiate a connection to Redshift\n",
    "using a local config file"
   ]
  },
  {
   "cell_type": "code",
   "execution_count": 2,
   "metadata": {},
   "outputs": [
    {
     "name": "stdout",
     "output_type": "stream",
     "text": [
      "1\n"
     ]
    }
   ],
   "source": [
    "config = configparser.ConfigParser()\n",
    "project_config_path = '/Users/paulogier/Library/Preferences/PyCharm2019.3/scratches/capstone.cfg'\n",
    "config.read(project_config_path)\n",
    "DWH_HOST = config.get(\"DB\", \"DB_HOST\")\n",
    "DWH_DB = config.get(\"DB\", \"DB_NAME\")\n",
    "DWH_DB_USER = config.get(\"DB\", \"DB_USER\")\n",
    "DWH_DB_PASSWORD = config.get(\"DB\", \"DB_PASSWORD\")\n",
    "DWH_PORT = config.get(\"DB\", \"DB_PORT\")\n",
    "conn = psycopg2.connect(host =DWH_HOST ,database = DWH_DB, user=DWH_DB_USER, password=DWH_DB_PASSWORD, port=DWH_PORT)\n",
    "conn.autocommit = True\n",
    "print(conn.status)"
   ]
  },
  {
   "cell_type": "markdown",
   "metadata": {},
   "source": [
    "### Loading the data"
   ]
  },
  {
   "cell_type": "code",
   "execution_count": 3,
   "metadata": {},
   "outputs": [],
   "source": [
    "df = pd.read_sql(\"SELECT * FROM datalake.infogreffe_attributes;\", conn)"
   ]
  },
  {
   "cell_type": "code",
   "execution_count": 4,
   "metadata": {},
   "outputs": [
    {
     "data": {
      "text/html": [
       "<div>\n",
       "<style scoped>\n",
       "    .dataframe tbody tr th:only-of-type {\n",
       "        vertical-align: middle;\n",
       "    }\n",
       "\n",
       "    .dataframe tbody tr th {\n",
       "        vertical-align: top;\n",
       "    }\n",
       "\n",
       "    .dataframe thead th {\n",
       "        text-align: right;\n",
       "    }\n",
       "</style>\n",
       "<table border=\"1\" class=\"dataframe\">\n",
       "  <thead>\n",
       "    <tr style=\"text-align: right;\">\n",
       "      <th></th>\n",
       "      <th>infogreffe_uid</th>\n",
       "      <th>siren</th>\n",
       "      <th>millesime</th>\n",
       "      <th>date_de_cloture</th>\n",
       "      <th>duree</th>\n",
       "      <th>tranche_ca_millesime</th>\n",
       "      <th>ca</th>\n",
       "      <th>resultat</th>\n",
       "      <th>effectif</th>\n",
       "    </tr>\n",
       "  </thead>\n",
       "  <tbody>\n",
       "    <tr>\n",
       "      <th>1273099</th>\n",
       "      <td>71c34a3d7800c97fd66df1b86c3c1936</td>\n",
       "      <td>833193683</td>\n",
       "      <td>2018</td>\n",
       "      <td>2018-12-31</td>\n",
       "      <td>14.0</td>\n",
       "      <td>A - de 32K</td>\n",
       "      <td>0.0</td>\n",
       "      <td>-1567.0</td>\n",
       "      <td>NaN</td>\n",
       "    </tr>\n",
       "    <tr>\n",
       "      <th>1407649</th>\n",
       "      <td>ff8ee99d66b654592e7d9d85e0d6cf21</td>\n",
       "      <td>500556782</td>\n",
       "      <td>2018</td>\n",
       "      <td>2018-12-31</td>\n",
       "      <td>12.0</td>\n",
       "      <td>A - de 32K</td>\n",
       "      <td>NaN</td>\n",
       "      <td>NaN</td>\n",
       "      <td>NaN</td>\n",
       "    </tr>\n",
       "    <tr>\n",
       "      <th>1469195</th>\n",
       "      <td>e635cb31bc6d17cdb2e714fa2a55663e</td>\n",
       "      <td>493279046</td>\n",
       "      <td>2018</td>\n",
       "      <td>2018-09-30</td>\n",
       "      <td>12.0</td>\n",
       "      <td>A - de 32K</td>\n",
       "      <td>NaN</td>\n",
       "      <td>NaN</td>\n",
       "      <td>NaN</td>\n",
       "    </tr>\n",
       "    <tr>\n",
       "      <th>1130645</th>\n",
       "      <td>ef350d6cd4dbef1e04efcde30206f749</td>\n",
       "      <td>793286279</td>\n",
       "      <td>2018</td>\n",
       "      <td>2018-07-31</td>\n",
       "      <td>12.0</td>\n",
       "      <td>A - de 32K</td>\n",
       "      <td>NaN</td>\n",
       "      <td>NaN</td>\n",
       "      <td>NaN</td>\n",
       "    </tr>\n",
       "    <tr>\n",
       "      <th>1664711</th>\n",
       "      <td>eb9647e602d234053f3a4ddc2503a925</td>\n",
       "      <td>794533646</td>\n",
       "      <td>2018</td>\n",
       "      <td>2018-12-31</td>\n",
       "      <td>12.0</td>\n",
       "      <td>A - de 32K</td>\n",
       "      <td>NaN</td>\n",
       "      <td>NaN</td>\n",
       "      <td>NaN</td>\n",
       "    </tr>\n",
       "  </tbody>\n",
       "</table>\n",
       "</div>"
      ],
      "text/plain": [
       "                           infogreffe_uid      siren  millesime  \\\n",
       "1273099  71c34a3d7800c97fd66df1b86c3c1936  833193683       2018   \n",
       "1407649  ff8ee99d66b654592e7d9d85e0d6cf21  500556782       2018   \n",
       "1469195  e635cb31bc6d17cdb2e714fa2a55663e  493279046       2018   \n",
       "1130645  ef350d6cd4dbef1e04efcde30206f749  793286279       2018   \n",
       "1664711  eb9647e602d234053f3a4ddc2503a925  794533646       2018   \n",
       "\n",
       "        date_de_cloture  duree tranche_ca_millesime   ca  resultat  effectif  \n",
       "1273099      2018-12-31   14.0           A - de 32K  0.0   -1567.0       NaN  \n",
       "1407649      2018-12-31   12.0           A - de 32K  NaN       NaN       NaN  \n",
       "1469195      2018-09-30   12.0           A - de 32K  NaN       NaN       NaN  \n",
       "1130645      2018-07-31   12.0           A - de 32K  NaN       NaN       NaN  \n",
       "1664711      2018-12-31   12.0           A - de 32K  NaN       NaN       NaN  "
      ]
     },
     "execution_count": 4,
     "metadata": {},
     "output_type": "execute_result"
    }
   ],
   "source": [
    "df.sample(5)"
   ]
  },
  {
   "cell_type": "markdown",
   "metadata": {},
   "source": [
    "### Number of rows"
   ]
  },
  {
   "cell_type": "code",
   "execution_count": 5,
   "metadata": {},
   "outputs": [
    {
     "data": {
      "text/plain": [
       "2395536"
      ]
     },
     "execution_count": 5,
     "metadata": {},
     "output_type": "execute_result"
    }
   ],
   "source": [
    "df.shape[0]"
   ]
  },
  {
   "cell_type": "markdown",
   "metadata": {},
   "source": [
    "### Nulls"
   ]
  },
  {
   "cell_type": "code",
   "execution_count": 6,
   "metadata": {},
   "outputs": [
    {
     "data": {
      "text/plain": [
       "effectif                8.890261e-01\n",
       "ca                      6.739485e-01\n",
       "resultat                6.623144e-01\n",
       "tranche_ca_millesime    1.252329e-06\n",
       "duree                   8.348862e-07\n",
       "date_de_cloture         8.348862e-07\n",
       "infogreffe_uid          8.348862e-07\n",
       "millesime               0.000000e+00\n",
       "siren                   0.000000e+00\n",
       "dtype: float64"
      ]
     },
     "execution_count": 6,
     "metadata": {},
     "output_type": "execute_result"
    }
   ],
   "source": [
    "(df.isnull().sum(axis=0)/df.shape[0]).sort_values(ascending=False)"
   ]
  },
  {
   "cell_type": "markdown",
   "metadata": {},
   "source": [
    "Detailed information (revenue `ca`, profit `resultat`, number of employees `effectif`; is not available)"
   ]
  },
  {
   "cell_type": "markdown",
   "metadata": {},
   "source": [
    "### Uniqueness of infogreffe_uid"
   ]
  },
  {
   "cell_type": "code",
   "execution_count": 7,
   "metadata": {},
   "outputs": [],
   "source": [
    "if df['infogreffe_uid'].nunique()/df.shape[0] ==1:\n",
    "    print('infogreffe_uid has unique values')"
   ]
  },
  {
   "cell_type": "markdown",
   "metadata": {},
   "source": [
    "### Column statistics"
   ]
  },
  {
   "cell_type": "code",
   "execution_count": 8,
   "metadata": {},
   "outputs": [
    {
     "data": {
      "text/plain": [
       "2019    1153295\n",
       "2018    1011389\n",
       "2020     230852\n",
       "Name: millesime, dtype: int64"
      ]
     },
     "execution_count": 8,
     "metadata": {},
     "output_type": "execute_result"
    }
   ],
   "source": [
    "df['millesime'].value_counts()"
   ]
  },
  {
   "cell_type": "markdown",
   "metadata": {},
   "source": [
    "Financials available for 2018, 2019 and 2020 only (due to filters selected in the API)"
   ]
  },
  {
   "cell_type": "code",
   "execution_count": 9,
   "metadata": {},
   "outputs": [
    {
     "data": {
      "text/plain": [
       "A - de 32K             1464475\n",
       "E + d 1M                499054\n",
       "D entre 250K et 1M      184895\n",
       "C entre 82K et 250K     162930\n",
       "B entre 32K et 82K       84179\n",
       "Name: tranche_ca_millesime, dtype: int64"
      ]
     },
     "execution_count": 9,
     "metadata": {},
     "output_type": "execute_result"
    }
   ],
   "source": [
    "df['tranche_ca_millesime'].value_counts()"
   ]
  },
  {
   "cell_type": "markdown",
   "metadata": {},
   "source": [
    "Most of the firms have a revenue less than 32 k euros"
   ]
  },
  {
   "cell_type": "code",
   "execution_count": 10,
   "metadata": {},
   "outputs": [
    {
     "data": {
      "text/html": [
       "<div>\n",
       "<style scoped>\n",
       "    .dataframe tbody tr th:only-of-type {\n",
       "        vertical-align: middle;\n",
       "    }\n",
       "\n",
       "    .dataframe tbody tr th {\n",
       "        vertical-align: top;\n",
       "    }\n",
       "\n",
       "    .dataframe thead th {\n",
       "        text-align: right;\n",
       "    }\n",
       "</style>\n",
       "<table border=\"1\" class=\"dataframe\">\n",
       "  <thead>\n",
       "    <tr style=\"text-align: right;\">\n",
       "      <th></th>\n",
       "      <th>ca_pct_null</th>\n",
       "    </tr>\n",
       "    <tr>\n",
       "      <th>tranche_ca_millesime</th>\n",
       "      <th></th>\n",
       "    </tr>\n",
       "  </thead>\n",
       "  <tbody>\n",
       "    <tr>\n",
       "      <th>A - de 32K</th>\n",
       "      <td>0.932511</td>\n",
       "    </tr>\n",
       "    <tr>\n",
       "      <th>B entre 32K et 82K</th>\n",
       "      <td>0.000000</td>\n",
       "    </tr>\n",
       "    <tr>\n",
       "      <th>C entre 82K et 250K</th>\n",
       "      <td>0.000000</td>\n",
       "    </tr>\n",
       "    <tr>\n",
       "      <th>D entre 250K et 1M</th>\n",
       "      <td>0.000000</td>\n",
       "    </tr>\n",
       "    <tr>\n",
       "      <th>E + d 1M</th>\n",
       "      <td>0.498595</td>\n",
       "    </tr>\n",
       "  </tbody>\n",
       "</table>\n",
       "</div>"
      ],
      "text/plain": [
       "                      ca_pct_null\n",
       "tranche_ca_millesime             \n",
       "A - de 32K               0.932511\n",
       "B entre 32K et 82K       0.000000\n",
       "C entre 82K et 250K      0.000000\n",
       "D entre 250K et 1M       0.000000\n",
       "E + d 1M                 0.498595"
      ]
     },
     "execution_count": 10,
     "metadata": {},
     "output_type": "execute_result"
    }
   ],
   "source": [
    "x = df.pivot_table(index='tranche_ca_millesime', values='ca', aggfunc=lambda r: np.mean(r.isnull()))\n",
    "x.rename(columns={'ca': 'ca_pct_null'}, inplace=True)\n",
    "x"
   ]
  },
  {
   "cell_type": "markdown",
   "metadata": {},
   "source": [
    "Curiously, even for big firms (revenue > 1m), the revenue is not always indicated...    \n",
    "I would have to understand why"
   ]
  },
  {
   "cell_type": "code",
   "execution_count": null,
   "metadata": {},
   "outputs": [],
   "source": []
  }
 ],
 "metadata": {
  "kernelspec": {
   "display_name": "Python 3",
   "language": "python",
   "name": "python3"
  },
  "language_info": {
   "codemirror_mode": {
    "name": "ipython",
    "version": 3
   },
   "file_extension": ".py",
   "mimetype": "text/x-python",
   "name": "python",
   "nbconvert_exporter": "python",
   "pygments_lexer": "ipython3",
   "version": "3.8.3"
  }
 },
 "nbformat": 4,
 "nbformat_minor": 4
}
