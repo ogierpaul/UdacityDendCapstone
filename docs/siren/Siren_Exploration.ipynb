{
 "cells": [
  {
   "cell_type": "markdown",
   "id": "passing-typing",
   "metadata": {},
   "source": [
    "# Siren Exploration\n",
    "- With Pyspark (21 million rows)\n",
    "- on EMR"
   ]
  },
  {
   "cell_type": "code",
   "execution_count": 2,
   "id": "promotional-document",
   "metadata": {},
   "outputs": [
    {
     "data": {
      "application/vnd.jupyter.widget-view+json": {
       "model_id": "7e291498ffc44c6c8ad8968d022b07e5",
       "version_major": 2,
       "version_minor": 0
      },
      "text/plain": [
       "VBox()"
      ]
     },
     "metadata": {},
     "output_type": "display_data"
    },
    {
     "data": {
      "application/vnd.jupyter.widget-view+json": {
       "model_id": "",
       "version_major": 2,
       "version_minor": 0
      },
      "text/plain": [
       "FloatProgress(value=0.0, bar_style='info', description='Progress:', layout=Layout(height='25px', width='50%'),…"
      ]
     },
     "metadata": {},
     "output_type": "display_data"
    },
    {
     "name": "stdout",
     "output_type": "stream",
     "text": [
      "21904395"
     ]
    }
   ],
   "source": [
    "mycsv = \"s3a://paulogiereucentral1/staging/siren_attributes/\"\n",
    "df = spark.read.option(\"header\", \"true\").csv(mycsv)\n",
    "df.count()"
   ]
  },
  {
   "cell_type": "code",
   "execution_count": 4,
   "id": "heated-pencil",
   "metadata": {},
   "outputs": [
    {
     "data": {
      "application/vnd.jupyter.widget-view+json": {
       "model_id": "bc4f5460a2724d1eb70c31dca1af0bf1",
       "version_major": 2,
       "version_minor": 0
      },
      "text/plain": [
       "VBox()"
      ]
     },
     "metadata": {},
     "output_type": "display_data"
    },
    {
     "data": {
      "application/vnd.jupyter.widget-view+json": {
       "model_id": "",
       "version_major": 2,
       "version_minor": 0
      },
      "text/plain": [
       "FloatProgress(value=0.0, bar_style='info', description='Progress:', layout=Layout(height='25px', width='50%'),…"
      ]
     },
     "metadata": {},
     "output_type": "display_data"
    },
    {
     "name": "stdout",
     "output_type": "stream",
     "text": [
      "root\n",
      " |-- siren: string (nullable = true)\n",
      " |-- statutDiffusionUniteLegale: string (nullable = true)\n",
      " |-- unitePurgeeUniteLegale: string (nullable = true)\n",
      " |-- dateCreationUniteLegale: string (nullable = true)\n",
      " |-- sigleUniteLegale: string (nullable = true)\n",
      " |-- sexeUniteLegale: string (nullable = true)\n",
      " |-- prenom1UniteLegale: string (nullable = true)\n",
      " |-- prenom2UniteLegale: string (nullable = true)\n",
      " |-- prenom3UniteLegale: string (nullable = true)\n",
      " |-- prenom4UniteLegale: string (nullable = true)\n",
      " |-- prenomUsuelUniteLegale: string (nullable = true)\n",
      " |-- pseudonymeUniteLegale: string (nullable = true)\n",
      " |-- identifiantAssociationUniteLegale: string (nullable = true)\n",
      " |-- trancheEffectifsUniteLegale: string (nullable = true)\n",
      " |-- anneeEffectifsUniteLegale: string (nullable = true)\n",
      " |-- dateDernierTraitementUniteLegale: string (nullable = true)\n",
      " |-- nombrePeriodesUniteLegale: string (nullable = true)\n",
      " |-- categorieEntreprise: string (nullable = true)\n",
      " |-- anneeCategorieEntreprise: string (nullable = true)\n",
      " |-- dateDebut: string (nullable = true)\n",
      " |-- etatAdministratifUniteLegale: string (nullable = true)\n",
      " |-- nomUniteLegale: string (nullable = true)\n",
      " |-- nomUsageUniteLegale: string (nullable = true)\n",
      " |-- denominationUniteLegale: string (nullable = true)\n",
      " |-- denominationUsuelle1UniteLegale: string (nullable = true)\n",
      " |-- denominationUsuelle2UniteLegale: string (nullable = true)\n",
      " |-- denominationUsuelle3UniteLegale: string (nullable = true)\n",
      " |-- categorieJuridiqueUniteLegale: string (nullable = true)\n",
      " |-- activitePrincipaleUniteLegale: string (nullable = true)\n",
      " |-- nomenclatureActivitePrincipaleUniteLegale: string (nullable = true)\n",
      " |-- nicSiegeUniteLegale: string (nullable = true)\n",
      " |-- economieSocialeSolidaireUniteLegale: string (nullable = true)\n",
      " |-- caractereEmployeurUniteLegale: string (nullable = true)"
     ]
    }
   ],
   "source": [
    "df.printSchema()"
   ]
  },
  {
   "cell_type": "markdown",
   "id": "professional-exposure",
   "metadata": {},
   "source": [
    "## Check that siren is unique"
   ]
  },
  {
   "cell_type": "code",
   "execution_count": 9,
   "id": "checked-poster",
   "metadata": {},
   "outputs": [
    {
     "data": {
      "application/vnd.jupyter.widget-view+json": {
       "model_id": "3b5c00972f2948c28bb3462831161c00",
       "version_major": 2,
       "version_minor": 0
      },
      "text/plain": [
       "VBox()"
      ]
     },
     "metadata": {},
     "output_type": "display_data"
    },
    {
     "data": {
      "application/vnd.jupyter.widget-view+json": {
       "model_id": "",
       "version_major": 2,
       "version_minor": 0
      },
      "text/plain": [
       "FloatProgress(value=0.0, bar_style='info', description='Progress:', layout=Layout(height='25px', width='50%'),…"
      ]
     },
     "metadata": {},
     "output_type": "display_data"
    },
    {
     "name": "stdout",
     "output_type": "stream",
     "text": [
      "Row(max(count)=1)"
     ]
    }
   ],
   "source": [
    "x = df.groupBy('siren').count()\n",
    "max_value = x.agg({\"count\": \"max\"}).collect()[0]\n",
    "print(max_value)"
   ]
  },
  {
   "cell_type": "markdown",
   "id": "favorite-threat",
   "metadata": {},
   "source": [
    "# Exploratory Data"
   ]
  },
  {
   "cell_type": "code",
   "execution_count": 11,
   "id": "banner-cooking",
   "metadata": {},
   "outputs": [
    {
     "data": {
      "application/vnd.jupyter.widget-view+json": {
       "model_id": "11b59ac90a4740bf8e352773f0ae79c3",
       "version_major": 2,
       "version_minor": 0
      },
      "text/plain": [
       "VBox()"
      ]
     },
     "metadata": {},
     "output_type": "display_data"
    },
    {
     "data": {
      "application/vnd.jupyter.widget-view+json": {
       "model_id": "",
       "version_major": 2,
       "version_minor": 0
      },
      "text/plain": [
       "FloatProgress(value=0.0, bar_style='info', description='Progress:', layout=Layout(height='25px', width='50%'),…"
      ]
     },
     "metadata": {},
     "output_type": "display_data"
    }
   ],
   "source": [
    "sample = df.limit(1000).cache()"
   ]
  },
  {
   "cell_type": "code",
   "execution_count": 13,
   "id": "lined-ratio",
   "metadata": {},
   "outputs": [
    {
     "data": {
      "application/vnd.jupyter.widget-view+json": {
       "model_id": "3fc52bffe28f4480ac158e331499d10b",
       "version_major": 2,
       "version_minor": 0
      },
      "text/plain": [
       "VBox()"
      ]
     },
     "metadata": {},
     "output_type": "display_data"
    },
    {
     "data": {
      "application/vnd.jupyter.widget-view+json": {
       "model_id": "",
       "version_major": 2,
       "version_minor": 0
      },
      "text/plain": [
       "FloatProgress(value=0.0, bar_style='info', description='Progress:', layout=Layout(height='25px', width='50%'),…"
      ]
     },
     "metadata": {},
     "output_type": "display_data"
    }
   ],
   "source": [
    "import pyspark.sql.functions as F"
   ]
  },
  {
   "cell_type": "markdown",
   "id": "continued-villa",
   "metadata": {},
   "source": [
    "## When were legal entities founded\n",
    "by Decade (1985 --> 1980, 2021 --> 2020..)"
   ]
  },
  {
   "cell_type": "code",
   "execution_count": 37,
   "id": "interesting-subsection",
   "metadata": {},
   "outputs": [
    {
     "data": {
      "application/vnd.jupyter.widget-view+json": {
       "model_id": "42a8c0eeb05f469e93271a6d66a0fb55",
       "version_major": 2,
       "version_minor": 0
      },
      "text/plain": [
       "VBox()"
      ]
     },
     "metadata": {},
     "output_type": "display_data"
    },
    {
     "data": {
      "application/vnd.jupyter.widget-view+json": {
       "model_id": "",
       "version_major": 2,
       "version_minor": 0
      },
      "text/plain": [
       "FloatProgress(value=0.0, bar_style='info', description='Progress:', layout=Layout(height='25px', width='50%'),…"
      ]
     },
     "metadata": {},
     "output_type": "display_data"
    },
    {
     "name": "stdout",
     "output_type": "stream",
     "text": [
      "+-----------+--------+\n",
      "|decadeDebut|   count|\n",
      "+-----------+--------+\n",
      "|       null|  422566|\n",
      "|       1900|     524|\n",
      "|       1910|     149|\n",
      "|       1920|     458|\n",
      "|       1930|     569|\n",
      "|       1940|     826|\n",
      "|       1950|    2073|\n",
      "|       1960|    6328|\n",
      "|       1970|   38984|\n",
      "|       1980| 1762692|\n",
      "|       1990| 2342894|\n",
      "|       2000| 5267831|\n",
      "|       2010|10104835|\n",
      "|       2020| 1953284|\n",
      "|       2030|      14|\n",
      "|       2040|      46|\n",
      "|       2050|       4|\n",
      "|       2060|       8|\n",
      "|       2070|       4|\n",
      "|       2080|      14|\n",
      "+-----------+--------+\n",
      "only showing top 20 rows"
     ]
    }
   ],
   "source": [
    "x = df.withColumn('decadeDebut', 1900 + 10*F.floor((F.year(F.to_date('dateDebut'))-1900)/10)).groupBy('decadeDebut').count()\n",
    "x.orderBy('decadeDebut').show(20)"
   ]
  },
  {
   "cell_type": "markdown",
   "id": "concerned-coverage",
   "metadata": {},
   "source": [
    "- Well, some data cleaning to do on futurisic dates :)\n",
    "- Consider as well the steady increase in number of entities created over the time"
   ]
  },
  {
   "cell_type": "code",
   "execution_count": null,
   "id": "opponent-cartoon",
   "metadata": {},
   "outputs": [],
   "source": []
  }
 ],
 "metadata": {
  "kernelspec": {
   "display_name": "PySpark",
   "language": "",
   "name": "pysparkkernel"
  },
  "language_info": {
   "codemirror_mode": {
    "name": "python",
    "version": 3
   },
   "mimetype": "text/x-python",
   "name": "pyspark",
   "pygments_lexer": "python3"
  }
 },
 "nbformat": 4,
 "nbformat_minor": 5
}
